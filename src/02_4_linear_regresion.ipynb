{
 "cells": [
  {
   "cell_type": "code",
   "execution_count": 6,
   "metadata": {},
   "outputs": [
    {
     "name": "stdout",
     "output_type": "stream",
     "text": [
      "(0, 0.015203259, [0.05478704, 0.10060378])\n",
      "(20, 1.4554083e-06, [0.10440029, 0.19759415])\n",
      "(40, 5.7036266e-07, [0.10275466, 0.19849394])\n",
      "(60, 2.2352233e-07, [0.10172446, 0.19905718])\n",
      "(80, 8.7598274e-08, [0.10107955, 0.19940978])\n",
      "(100, 3.4329158e-08, [0.10067581, 0.19963051])\n",
      "(120, 1.3453912e-08, [0.10042308, 0.19976869])\n",
      "(140, 5.2724283e-09, [0.10026485, 0.19985519])\n",
      "(160, 2.0661548e-09, [0.1001658, 0.19990934])\n",
      "(180, 8.0971901e-10, [0.10010379, 0.19994324])\n",
      "(200, 3.174199e-10, [0.10006499, 0.19996446])\n"
     ]
    }
   ],
   "source": [
    "import tensorflow as tf\n",
    "import numpy as np\n",
    "# Generate 100 samples\n",
    "x_data = np.random.rand(100)\n",
    "y_data = x_data*0.1 + 0.2\n",
    "\n",
    "# Build a linear model\n",
    "b = tf.Variable(0.)\n",
    "k = tf.Variable(0.)\n",
    "y = k*x_data + b \n",
    "\n",
    "# Loss function \n",
    "loss = tf.reduce_mean(tf.square(y_data - y))\n",
    "\n",
    "# Define the optimizer to train model\n",
    "# 0.2: Learning rate\n",
    "optimizer = tf.train.GradientDescentOptimizer(0.2)\n",
    "\n",
    "# The object of our algorithm\n",
    "train = optimizer.minimize(loss)\n",
    "\n",
    "\n",
    "# Build a new operation intend to initialize all variables \n",
    "init = tf.global_variables_initializer()\n",
    "\n",
    "with tf.Session() as sess:\n",
    "    sess.run(init)\n",
    "    for step in range(201):\n",
    "        sess.run(train)\n",
    "        if step % 20 == 0:\n",
    "            print(step, sess.run(loss), sess.run([k,b]))\n",
    "            "
   ]
  },
  {
   "cell_type": "code",
   "execution_count": null,
   "metadata": {},
   "outputs": [],
   "source": []
  }
 ],
 "metadata": {
  "kernelspec": {
   "display_name": "Python (tensorflow_mooc)",
   "language": "python",
   "name": "tensorflow_mooc"
  },
  "language_info": {
   "codemirror_mode": {
    "name": "ipython",
    "version": 2
   },
   "file_extension": ".py",
   "mimetype": "text/x-python",
   "name": "python",
   "nbconvert_exporter": "python",
   "pygments_lexer": "ipython2",
   "version": "2.7.14"
  }
 },
 "nbformat": 4,
 "nbformat_minor": 2
}
