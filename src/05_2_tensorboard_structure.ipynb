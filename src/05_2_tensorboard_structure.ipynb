{
 "cells": [
  {
   "cell_type": "code",
   "execution_count": 1,
   "metadata": {},
   "outputs": [
    {
     "name": "stdout",
     "output_type": "stream",
     "text": [
      "Extracting MNIST_data/train-images-idx3-ubyte.gz\n",
      "Extracting MNIST_data/train-labels-idx1-ubyte.gz\n",
      "Extracting MNIST_data/t10k-images-idx3-ubyte.gz\n",
      "Extracting MNIST_data/t10k-labels-idx1-ubyte.gz\n",
      "Iter 0, Testing Accuracy 0.9078\n"
     ]
    }
   ],
   "source": [
    "# ** Visualize **\n",
    "\n",
    "import tensorflow as tf\n",
    "from tensorflow.examples.tutorials.mnist import input_data\n",
    "\n",
    "LAYER1_NODE = 500\n",
    "\n",
    "# Load data\n",
    "mnist = input_data.read_data_sets(\"MNIST_data\", one_hot=True)\n",
    "\n",
    "\n",
    "batch_size = 20\n",
    "# Number of batch \n",
    "n_batch = mnist.train.num_examples // batch_size\n",
    "\n",
    "# ** Visualize **\n",
    "# Name Space to Visualise\n",
    "with tf.name_scope('input'):\n",
    "    x = tf.placeholder(tf.float32,[None, 784], name='x-input')\n",
    "    y = tf.placeholder(tf.float32,[None, 10], name='y-input') # Lable\n",
    "\n",
    "# ** Visualize **\n",
    "with tf.name_scope('layer'):\n",
    "    # Build Network\n",
    "    with tf.name_scope('wight'):\n",
    "        W = tf.Variable(tf.zeros([784,10]), name = 'W')\n",
    "    with tf.name_scope('biases'):\n",
    "        b = tf.Variable(tf.zeros([10]), name = 'b')\n",
    "    with tf.name_scope('wx_plus_b'):\n",
    "        wx_plus_b = tf.matmul(x,W)+b\n",
    "    with tf.name_scope('softmax'):\n",
    "        prediction = tf.nn.softmax(wx_plus_b)\n",
    "\n",
    "\n",
    "# quadratic cost\n",
    "# loss = tf.reduce_mean(tf.square(y-prediction))\n",
    "\n",
    "# ** Visualize **\n",
    "with tf.name_scope('loss'):\n",
    "    # 交叉熵\n",
    "    loss = tf.reduce_mean(tf.nn.softmax_cross_entropy_with_logits(labels=y, logits=prediction))\n",
    "with tf.name_scope('train'):\n",
    "    train_step = tf.train.GradientDescentOptimizer(0.2).minimize(loss)\n",
    "\n",
    "init = tf.global_variables_initializer()\n",
    "\n",
    "\n",
    "# ** Visualize **\n",
    "with tf.name_scope('accuracy'): \n",
    "    with tf.name_scope('correct_prediction'):\n",
    "        # correct_prediction：A boolean list\n",
    "        # argmax: return the index of max value \n",
    "        correct_prediction = tf.equal(tf.argmax(y,1), tf.argmax(prediction,1))\n",
    "    with tf.name_scope('accuracy'):\n",
    "        # Get accuracy rate: \n",
    "        accuracy = tf.reduce_mean(tf.cast(correct_prediction, tf.float32))\n",
    "\n",
    "\n",
    "with tf.Session() as sess:\n",
    "    # ** Visualize **\n",
    "    # tensorboard --logdir= ./logs/\n",
    "    writer = tf.summary.FileWriter('logs/', sess.graph)\n",
    "    sess.run(init)\n",
    "    for epoch in range(1):\n",
    "        for batch in range(n_batch):\n",
    "            # Store image in batch_xs, lable in batch_ys\n",
    "            batch_xs, batch_ys = mnist.train.next_batch(batch_size)\n",
    "            sess.run(train_step, feed_dict={x:batch_xs, y:batch_ys})\n",
    "        acc = sess.run(accuracy, feed_dict={x:mnist.test.images,y:mnist.test.labels})\n",
    "        print(\"Iter \" + str(epoch) + \", Testing Accuracy \" + str(acc))"
   ]
  }
 ],
 "metadata": {
  "kernelspec": {
   "display_name": "Python (mooc)",
   "language": "python",
   "name": "python_mooc"
  },
  "language_info": {
   "codemirror_mode": {
    "name": "ipython",
    "version": 3
   },
   "file_extension": ".py",
   "mimetype": "text/x-python",
   "name": "python",
   "nbconvert_exporter": "python",
   "pygments_lexer": "ipython3",
   "version": "3.6.4"
  }
 },
 "nbformat": 4,
 "nbformat_minor": 2
}
