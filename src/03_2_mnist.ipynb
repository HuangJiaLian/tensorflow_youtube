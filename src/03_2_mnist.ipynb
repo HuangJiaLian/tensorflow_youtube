{
 "cells": [
  {
   "cell_type": "code",
   "execution_count": 1,
   "metadata": {},
   "outputs": [],
   "source": [
    "import tensorflow as tf\n",
    "from tensorflow.examples.tutorials.mnist import input_data"
   ]
  },
  {
   "cell_type": "code",
   "execution_count": 15,
   "metadata": {},
   "outputs": [
    {
     "name": "stdout",
     "output_type": "stream",
     "text": [
      "Extracting MNIST_data/train-images-idx3-ubyte.gz\n",
      "Extracting MNIST_data/train-labels-idx1-ubyte.gz\n",
      "Extracting MNIST_data/t10k-images-idx3-ubyte.gz\n",
      "Extracting MNIST_data/t10k-labels-idx1-ubyte.gz\n",
      "Iter 0, Testing Accuracy 0.9139\n",
      "Iter 1, Testing Accuracy 0.9128\n",
      "Iter 2, Testing Accuracy 0.9146\n",
      "Iter 3, Testing Accuracy 0.9192\n",
      "Iter 4, Testing Accuracy 0.925\n",
      "Iter 5, Testing Accuracy 0.921\n",
      "Iter 6, Testing Accuracy 0.9202\n",
      "Iter 7, Testing Accuracy 0.9259\n",
      "Iter 8, Testing Accuracy 0.9218\n",
      "Iter 9, Testing Accuracy 0.9259\n",
      "Iter 10, Testing Accuracy 0.9196\n",
      "Iter 11, Testing Accuracy 0.9249\n",
      "Iter 12, Testing Accuracy 0.9254\n",
      "Iter 13, Testing Accuracy 0.9268\n",
      "Iter 14, Testing Accuracy 0.9258\n",
      "Iter 15, Testing Accuracy 0.9251\n",
      "Iter 16, Testing Accuracy 0.9251\n",
      "Iter 17, Testing Accuracy 0.9284\n",
      "Iter 18, Testing Accuracy 0.9265\n",
      "Iter 19, Testing Accuracy 0.9264\n",
      "Iter 20, Testing Accuracy 0.9265\n"
     ]
    }
   ],
   "source": [
    "LAYER1_NODE = 500\n",
    "\n",
    "# Load data\n",
    "mnist = input_data.read_data_sets(\"MNIST_data\", one_hot=True)\n",
    "\n",
    "batch_size = 20\n",
    "# Number of batch \n",
    "n_batch = mnist.train.num_examples // batch_size\n",
    "\n",
    "x = tf.placeholder(tf.float32,[None, 784])\n",
    "y = tf.placeholder(tf.float32,[None, 10]) # Lable\n",
    "\n",
    "# Build Network\n",
    "W = tf.Variable(tf.zeros([784,10]))\n",
    "b = tf.Variable(tf.zeros([10]))\n",
    "prediction = tf.nn.softmax(tf.matmul(x,W)+b)\n",
    "\n",
    "\n",
    "# quadratic cost\n",
    "# loss = tf.reduce_mean(tf.square(y-prediction))\n",
    "# 交叉熵\n",
    "loss = tf.nn.softmax_cross_entropy_with_logits(labels=y, logits=prediction)\n",
    "train_step = tf.train.GradientDescentOptimizer(0.2).minimize(loss)\n",
    "\n",
    "init = tf.global_variables_initializer()\n",
    "\n",
    "\n",
    "# correct_prediction：A boolean list\n",
    "# argmax: return the index of max value \n",
    "correct_prediction = tf.equal(tf.argmax(y,1), tf.argmax(prediction,1))\n",
    "# Get accuracy rate: \n",
    "accuracy = tf.reduce_mean(tf.cast(correct_prediction, tf.float32))\n",
    "\n",
    "\n",
    "with tf.Session() as sess:\n",
    "    sess.run(init)\n",
    "    for epoch in range(21):\n",
    "        for batch in range(n_batch):\n",
    "            # Store image in batch_xs, lable in batch_ys\n",
    "            batch_xs, batch_ys = mnist.train.next_batch(batch_size)\n",
    "            sess.run(train_step, feed_dict={x:batch_xs, y:batch_ys})\n",
    "        acc = sess.run(accuracy, feed_dict={x:mnist.test.images,y:mnist.test.labels})\n",
    "        print(\"Iter \" + str(epoch) + \", Testing Accuracy \" + str(acc))"
   ]
  },
  {
   "cell_type": "code",
   "execution_count": 8,
   "metadata": {},
   "outputs": [
    {
     "ename": "SyntaxError",
     "evalue": "invalid syntax (<ipython-input-8-1bb1ecba105d>, line 2)",
     "output_type": "error",
     "traceback": [
      "\u001b[0;36m  File \u001b[0;32m\"<ipython-input-8-1bb1ecba105d>\"\u001b[0;36m, line \u001b[0;32m2\u001b[0m\n\u001b[0;31m    Iter 0, Testing Accuracy 0.8933\u001b[0m\n\u001b[0m         ^\u001b[0m\n\u001b[0;31mSyntaxError\u001b[0m\u001b[0;31m:\u001b[0m invalid syntax\n"
     ]
    }
   ],
   "source": [
    "# quadratic cost\n",
    "# Iter 0, Testing Accuracy 0.8933\n",
    "# Iter 1, Testing Accuracy 0.9044\n",
    "# Iter 2, Testing Accuracy 0.9095\n",
    "# Iter 3, Testing Accuracy 0.9131\n",
    "# Iter 4, Testing Accuracy 0.9167\n",
    "# Iter 5, Testing Accuracy 0.9173\n",
    "# Iter 6, Testing Accuracy 0.9194\n",
    "# Iter 7, Testing Accuracy 0.9195\n",
    "# Iter 8, Testing Accuracy 0.9204\n",
    "# Iter 9, Testing Accuracy 0.9221\n",
    "# Iter 10, Testing Accuracy 0.9223\n",
    "# Iter 11, Testing Accuracy 0.9231\n",
    "# Iter 12, Testing Accuracy 0.9234\n",
    "# Iter 13, Testing Accuracy 0.9236\n",
    "# Iter 14, Testing Accuracy 0.9233\n",
    "# Iter 15, Testing Accuracy 0.9251\n",
    "# Iter 16, Testing Accuracy 0.9251\n",
    "# Iter 17, Testing Accuracy 0.9246\n",
    "# Iter 18, Testing Accuracy 0.9255\n",
    "# Iter 19, Testing Accuracy 0.925\n",
    "# Iter 20, Testing Accuracy 0.927\n",
    "\n",
    "# 交叉熵\n",
    "# Iter 0, Testing Accuracy 0.9148\n",
    "# Iter 1, Testing Accuracy 0.9036\n",
    "# Iter 2, Testing Accuracy 0.9156\n",
    "# Iter 3, Testing Accuracy 0.9193\n",
    "# Iter 4, Testing Accuracy 0.9157\n",
    "# Iter 5, Testing Accuracy 0.9217\n",
    "# Iter 6, Testing Accuracy 0.9202\n",
    "# Iter 7, Testing Accuracy 0.9262\n",
    "# Iter 8, Testing Accuracy 0.925\n",
    "# Iter 9, Testing Accuracy 0.917\n",
    "# Iter 10, Testing Accuracy 0.9252\n",
    "# Iter 11, Testing Accuracy 0.9225\n",
    "# Iter 12, Testing Accuracy 0.9277\n",
    "# Iter 13, Testing Accuracy 0.9239\n",
    "# Iter 14, Testing Accuracy 0.9258\n",
    "# Iter 15, Testing Accuracy 0.9233\n",
    "# Iter 16, Testing Accuracy 0.9285\n",
    "# Iter 17, Testing Accuracy 0.9303\n",
    "# Iter 18, Testing Accuracy 0.9256\n",
    "# Iter 19, Testing Accuracy 0.9285\n",
    "# Iter 20, Testing Accuracy 0.9264"
   ]
  },
  {
   "cell_type": "code",
   "execution_count": null,
   "metadata": {},
   "outputs": [],
   "source": []
  }
 ],
 "metadata": {
  "kernelspec": {
   "display_name": "Python (mooc)",
   "language": "python",
   "name": "python_mooc"
  },
  "language_info": {
   "codemirror_mode": {
    "name": "ipython",
    "version": 3
   },
   "file_extension": ".py",
   "mimetype": "text/x-python",
   "name": "python",
   "nbconvert_exporter": "python",
   "pygments_lexer": "ipython3",
   "version": "3.6.4"
  }
 },
 "nbformat": 4,
 "nbformat_minor": 2
}
